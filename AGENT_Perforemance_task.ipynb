{
 "cells": [
  {
   "cell_type": "code",
   "execution_count": 1,
   "id": "9d1ed9f5",
   "metadata": {},
   "outputs": [],
   "source": [
    "import pandas as pd \n",
    "import numpy as np\n"
   ]
  },
  {
   "cell_type": "code",
   "execution_count": 2,
   "id": "db92110a",
   "metadata": {},
   "outputs": [],
   "source": [
    "data=pd.read_csv(\"AgentLogingReport.csv\")"
   ]
  },
  {
   "cell_type": "code",
   "execution_count": 3,
   "id": "6b383bee",
   "metadata": {},
   "outputs": [
    {
     "data": {
      "text/html": [
       "<div>\n",
       "<style scoped>\n",
       "    .dataframe tbody tr th:only-of-type {\n",
       "        vertical-align: middle;\n",
       "    }\n",
       "\n",
       "    .dataframe tbody tr th {\n",
       "        vertical-align: top;\n",
       "    }\n",
       "\n",
       "    .dataframe thead th {\n",
       "        text-align: right;\n",
       "    }\n",
       "</style>\n",
       "<table border=\"1\" class=\"dataframe\">\n",
       "  <thead>\n",
       "    <tr style=\"text-align: right;\">\n",
       "      <th></th>\n",
       "      <th>SL No</th>\n",
       "      <th>Agent</th>\n",
       "      <th>Date</th>\n",
       "      <th>Login Time</th>\n",
       "      <th>Logout Time</th>\n",
       "      <th>Duration</th>\n",
       "    </tr>\n",
       "  </thead>\n",
       "  <tbody>\n",
       "    <tr>\n",
       "      <th>0</th>\n",
       "      <td>1</td>\n",
       "      <td>Shivananda Sonwane</td>\n",
       "      <td>30-Jul-22</td>\n",
       "      <td>15:35:29</td>\n",
       "      <td>17:39:39</td>\n",
       "      <td>02:04:10</td>\n",
       "    </tr>\n",
       "    <tr>\n",
       "      <th>1</th>\n",
       "      <td>2</td>\n",
       "      <td>Khushboo Priya</td>\n",
       "      <td>30-Jul-22</td>\n",
       "      <td>15:06:59</td>\n",
       "      <td>15:07:16</td>\n",
       "      <td>00:00:17</td>\n",
       "    </tr>\n",
       "    <tr>\n",
       "      <th>2</th>\n",
       "      <td>3</td>\n",
       "      <td>Nandani Gupta</td>\n",
       "      <td>30-Jul-22</td>\n",
       "      <td>15:04:24</td>\n",
       "      <td>17:31:07</td>\n",
       "      <td>02:26:42</td>\n",
       "    </tr>\n",
       "    <tr>\n",
       "      <th>3</th>\n",
       "      <td>4</td>\n",
       "      <td>Hrisikesh Neogi</td>\n",
       "      <td>30-Jul-22</td>\n",
       "      <td>14:34:29</td>\n",
       "      <td>15:19:35</td>\n",
       "      <td>00:45:06</td>\n",
       "    </tr>\n",
       "    <tr>\n",
       "      <th>4</th>\n",
       "      <td>5</td>\n",
       "      <td>Mukesh</td>\n",
       "      <td>30-Jul-22</td>\n",
       "      <td>14:03:15</td>\n",
       "      <td>15:11:52</td>\n",
       "      <td>01:08:36</td>\n",
       "    </tr>\n",
       "    <tr>\n",
       "      <th>...</th>\n",
       "      <td>...</td>\n",
       "      <td>...</td>\n",
       "      <td>...</td>\n",
       "      <td>...</td>\n",
       "      <td>...</td>\n",
       "      <td>...</td>\n",
       "    </tr>\n",
       "    <tr>\n",
       "      <th>995</th>\n",
       "      <td>996</td>\n",
       "      <td>Manjunatha A</td>\n",
       "      <td>20-Jul-22</td>\n",
       "      <td>09:03:51</td>\n",
       "      <td>15:02:28</td>\n",
       "      <td>05:58:37</td>\n",
       "    </tr>\n",
       "    <tr>\n",
       "      <th>996</th>\n",
       "      <td>997</td>\n",
       "      <td>Bharath</td>\n",
       "      <td>20-Jul-22</td>\n",
       "      <td>09:00:49</td>\n",
       "      <td>15:01:32</td>\n",
       "      <td>06:00:43</td>\n",
       "    </tr>\n",
       "    <tr>\n",
       "      <th>997</th>\n",
       "      <td>998</td>\n",
       "      <td>Khushboo Priya</td>\n",
       "      <td>20-Jul-22</td>\n",
       "      <td>08:59:20</td>\n",
       "      <td>14:26:55</td>\n",
       "      <td>05:27:34</td>\n",
       "    </tr>\n",
       "    <tr>\n",
       "      <th>998</th>\n",
       "      <td>999</td>\n",
       "      <td>Nishtha Jain</td>\n",
       "      <td>20-Jul-22</td>\n",
       "      <td>08:43:55</td>\n",
       "      <td>14:00:33</td>\n",
       "      <td>05:16:38</td>\n",
       "    </tr>\n",
       "    <tr>\n",
       "      <th>999</th>\n",
       "      <td>1000</td>\n",
       "      <td>Tarun</td>\n",
       "      <td>01-Jul-22</td>\n",
       "      <td>01:52:47</td>\n",
       "      <td>12:01:07</td>\n",
       "      <td>514:08:20</td>\n",
       "    </tr>\n",
       "  </tbody>\n",
       "</table>\n",
       "<p>1000 rows × 6 columns</p>\n",
       "</div>"
      ],
      "text/plain": [
       "     SL No               Agent       Date Login Time Logout Time   Duration\n",
       "0        1  Shivananda Sonwane  30-Jul-22   15:35:29    17:39:39   02:04:10\n",
       "1        2      Khushboo Priya  30-Jul-22   15:06:59    15:07:16   00:00:17\n",
       "2        3       Nandani Gupta  30-Jul-22   15:04:24    17:31:07   02:26:42\n",
       "3        4     Hrisikesh Neogi  30-Jul-22   14:34:29    15:19:35   00:45:06\n",
       "4        5              Mukesh  30-Jul-22   14:03:15    15:11:52   01:08:36\n",
       "..     ...                 ...        ...        ...         ...        ...\n",
       "995    996        Manjunatha A  20-Jul-22   09:03:51    15:02:28   05:58:37\n",
       "996    997             Bharath  20-Jul-22   09:00:49    15:01:32   06:00:43\n",
       "997    998      Khushboo Priya  20-Jul-22   08:59:20    14:26:55   05:27:34\n",
       "998    999        Nishtha Jain  20-Jul-22   08:43:55    14:00:33   05:16:38\n",
       "999   1000               Tarun  01-Jul-22   01:52:47    12:01:07  514:08:20\n",
       "\n",
       "[1000 rows x 6 columns]"
      ]
     },
     "execution_count": 3,
     "metadata": {},
     "output_type": "execute_result"
    }
   ],
   "source": [
    "data"
   ]
  },
  {
   "cell_type": "code",
   "execution_count": 4,
   "id": "ce96b4b3",
   "metadata": {},
   "outputs": [
    {
     "name": "stdout",
     "output_type": "stream",
     "text": [
      "<class 'pandas.core.frame.DataFrame'>\n",
      "RangeIndex: 1000 entries, 0 to 999\n",
      "Data columns (total 6 columns):\n",
      " #   Column       Non-Null Count  Dtype \n",
      "---  ------       --------------  ----- \n",
      " 0   SL No        1000 non-null   int64 \n",
      " 1   Agent        1000 non-null   object\n",
      " 2   Date         1000 non-null   object\n",
      " 3   Login Time   1000 non-null   object\n",
      " 4   Logout Time  1000 non-null   object\n",
      " 5   Duration     1000 non-null   object\n",
      "dtypes: int64(1), object(5)\n",
      "memory usage: 47.0+ KB\n"
     ]
    }
   ],
   "source": [
    "data.info()"
   ]
  },
  {
   "cell_type": "code",
   "execution_count": 5,
   "id": "688ce454",
   "metadata": {},
   "outputs": [
    {
     "data": {
      "text/html": [
       "<div>\n",
       "<style scoped>\n",
       "    .dataframe tbody tr th:only-of-type {\n",
       "        vertical-align: middle;\n",
       "    }\n",
       "\n",
       "    .dataframe tbody tr th {\n",
       "        vertical-align: top;\n",
       "    }\n",
       "\n",
       "    .dataframe thead th {\n",
       "        text-align: right;\n",
       "    }\n",
       "</style>\n",
       "<table border=\"1\" class=\"dataframe\">\n",
       "  <thead>\n",
       "    <tr style=\"text-align: right;\">\n",
       "      <th></th>\n",
       "      <th>Date</th>\n",
       "      <th>Agent Name</th>\n",
       "      <th>Total Chats</th>\n",
       "      <th>Average Response Time</th>\n",
       "      <th>Average Resolution Time</th>\n",
       "      <th>Average Rating</th>\n",
       "      <th>Total Feedback</th>\n",
       "    </tr>\n",
       "  </thead>\n",
       "  <tbody>\n",
       "    <tr>\n",
       "      <th>0</th>\n",
       "      <td>7/30/2022</td>\n",
       "      <td>Prerna Singh</td>\n",
       "      <td>11</td>\n",
       "      <td>0:00:38</td>\n",
       "      <td>0:04:20</td>\n",
       "      <td>4.11</td>\n",
       "      <td>9</td>\n",
       "    </tr>\n",
       "    <tr>\n",
       "      <th>1</th>\n",
       "      <td>7/30/2022</td>\n",
       "      <td>Nandani Gupta</td>\n",
       "      <td>11</td>\n",
       "      <td>0:01:15</td>\n",
       "      <td>0:28:25</td>\n",
       "      <td>3.14</td>\n",
       "      <td>7</td>\n",
       "    </tr>\n",
       "    <tr>\n",
       "      <th>2</th>\n",
       "      <td>7/30/2022</td>\n",
       "      <td>Ameya Jain</td>\n",
       "      <td>14</td>\n",
       "      <td>0:00:30</td>\n",
       "      <td>0:11:36</td>\n",
       "      <td>4.55</td>\n",
       "      <td>11</td>\n",
       "    </tr>\n",
       "    <tr>\n",
       "      <th>3</th>\n",
       "      <td>7/30/2022</td>\n",
       "      <td>Mahesh Sarade</td>\n",
       "      <td>14</td>\n",
       "      <td>0:01:04</td>\n",
       "      <td>0:15:46</td>\n",
       "      <td>4.71</td>\n",
       "      <td>7</td>\n",
       "    </tr>\n",
       "    <tr>\n",
       "      <th>4</th>\n",
       "      <td>7/30/2022</td>\n",
       "      <td>Swati</td>\n",
       "      <td>14</td>\n",
       "      <td>0:01:11</td>\n",
       "      <td>0:16:33</td>\n",
       "      <td>3.67</td>\n",
       "      <td>6</td>\n",
       "    </tr>\n",
       "    <tr>\n",
       "      <th>...</th>\n",
       "      <td>...</td>\n",
       "      <td>...</td>\n",
       "      <td>...</td>\n",
       "      <td>...</td>\n",
       "      <td>...</td>\n",
       "      <td>...</td>\n",
       "      <td>...</td>\n",
       "    </tr>\n",
       "    <tr>\n",
       "      <th>2155</th>\n",
       "      <td>7/1/2022</td>\n",
       "      <td>Sowmiya Sivakumar</td>\n",
       "      <td>0</td>\n",
       "      <td>0:00:00</td>\n",
       "      <td>0:00:00</td>\n",
       "      <td>0.00</td>\n",
       "      <td>0</td>\n",
       "    </tr>\n",
       "    <tr>\n",
       "      <th>2156</th>\n",
       "      <td>7/1/2022</td>\n",
       "      <td>Nitin M</td>\n",
       "      <td>0</td>\n",
       "      <td>0:00:00</td>\n",
       "      <td>0:00:00</td>\n",
       "      <td>0.00</td>\n",
       "      <td>0</td>\n",
       "    </tr>\n",
       "    <tr>\n",
       "      <th>2157</th>\n",
       "      <td>7/1/2022</td>\n",
       "      <td>Vivek</td>\n",
       "      <td>0</td>\n",
       "      <td>0:00:00</td>\n",
       "      <td>0:00:00</td>\n",
       "      <td>0.00</td>\n",
       "      <td>0</td>\n",
       "    </tr>\n",
       "    <tr>\n",
       "      <th>2158</th>\n",
       "      <td>7/1/2022</td>\n",
       "      <td>Ayushi Mishra</td>\n",
       "      <td>0</td>\n",
       "      <td>0:00:00</td>\n",
       "      <td>0:00:00</td>\n",
       "      <td>0.00</td>\n",
       "      <td>0</td>\n",
       "    </tr>\n",
       "    <tr>\n",
       "      <th>2159</th>\n",
       "      <td>7/1/2022</td>\n",
       "      <td>Chaitra K Hiremath</td>\n",
       "      <td>0</td>\n",
       "      <td>0:00:00</td>\n",
       "      <td>0:00:00</td>\n",
       "      <td>0.00</td>\n",
       "      <td>0</td>\n",
       "    </tr>\n",
       "  </tbody>\n",
       "</table>\n",
       "<p>2160 rows × 7 columns</p>\n",
       "</div>"
      ],
      "text/plain": [
       "           Date          Agent Name  Total Chats Average Response Time  \\\n",
       "0     7/30/2022        Prerna Singh           11               0:00:38   \n",
       "1     7/30/2022       Nandani Gupta           11               0:01:15   \n",
       "2     7/30/2022          Ameya Jain           14               0:00:30   \n",
       "3     7/30/2022       Mahesh Sarade           14               0:01:04   \n",
       "4     7/30/2022              Swati            14               0:01:11   \n",
       "...         ...                 ...          ...                   ...   \n",
       "2155   7/1/2022   Sowmiya Sivakumar            0               0:00:00   \n",
       "2156   7/1/2022             Nitin M            0               0:00:00   \n",
       "2157   7/1/2022              Vivek             0               0:00:00   \n",
       "2158   7/1/2022       Ayushi Mishra            0               0:00:00   \n",
       "2159   7/1/2022  Chaitra K Hiremath            0               0:00:00   \n",
       "\n",
       "     Average Resolution Time  Average Rating  Total Feedback  \n",
       "0                    0:04:20            4.11               9  \n",
       "1                    0:28:25            3.14               7  \n",
       "2                    0:11:36            4.55              11  \n",
       "3                    0:15:46            4.71               7  \n",
       "4                    0:16:33            3.67               6  \n",
       "...                      ...             ...             ...  \n",
       "2155                 0:00:00            0.00               0  \n",
       "2156                 0:00:00            0.00               0  \n",
       "2157                 0:00:00            0.00               0  \n",
       "2158                 0:00:00            0.00               0  \n",
       "2159                 0:00:00            0.00               0  \n",
       "\n",
       "[2160 rows x 7 columns]"
      ]
     },
     "execution_count": 5,
     "metadata": {},
     "output_type": "execute_result"
    }
   ],
   "source": [
    "data1=pd.read_csv(\"AgentPerformance.csv\")\n",
    "data1.drop(\"SL No\",axis=1,inplace=True)\n",
    "data1"
   ]
  },
  {
   "cell_type": "code",
   "execution_count": 6,
   "id": "865c22d9",
   "metadata": {},
   "outputs": [
    {
     "name": "stdout",
     "output_type": "stream",
     "text": [
      "<class 'pandas.core.frame.DataFrame'>\n",
      "RangeIndex: 2160 entries, 0 to 2159\n",
      "Data columns (total 7 columns):\n",
      " #   Column                   Non-Null Count  Dtype  \n",
      "---  ------                   --------------  -----  \n",
      " 0   Date                     2160 non-null   object \n",
      " 1   Agent Name               2160 non-null   object \n",
      " 2   Total Chats              2160 non-null   int64  \n",
      " 3   Average Response Time    2160 non-null   object \n",
      " 4   Average Resolution Time  2160 non-null   object \n",
      " 5   Average Rating           2160 non-null   float64\n",
      " 6   Total Feedback           2160 non-null   int64  \n",
      "dtypes: float64(1), int64(2), object(4)\n",
      "memory usage: 118.2+ KB\n"
     ]
    }
   ],
   "source": [
    "data1.info()"
   ]
  },
  {
   "cell_type": "code",
   "execution_count": 7,
   "id": "593689b0",
   "metadata": {},
   "outputs": [
    {
     "data": {
      "text/plain": [
       "(1000, 6)"
      ]
     },
     "execution_count": 7,
     "metadata": {},
     "output_type": "execute_result"
    }
   ],
   "source": [
    "data.shape"
   ]
  },
  {
   "cell_type": "code",
   "execution_count": 8,
   "id": "99d3ddaa",
   "metadata": {},
   "outputs": [
    {
     "data": {
      "text/html": [
       "<div>\n",
       "<style scoped>\n",
       "    .dataframe tbody tr th:only-of-type {\n",
       "        vertical-align: middle;\n",
       "    }\n",
       "\n",
       "    .dataframe tbody tr th {\n",
       "        vertical-align: top;\n",
       "    }\n",
       "\n",
       "    .dataframe thead th {\n",
       "        text-align: right;\n",
       "    }\n",
       "</style>\n",
       "<table border=\"1\" class=\"dataframe\">\n",
       "  <thead>\n",
       "    <tr style=\"text-align: right;\">\n",
       "      <th></th>\n",
       "      <th>SL No</th>\n",
       "    </tr>\n",
       "  </thead>\n",
       "  <tbody>\n",
       "    <tr>\n",
       "      <th>count</th>\n",
       "      <td>1000.000000</td>\n",
       "    </tr>\n",
       "    <tr>\n",
       "      <th>mean</th>\n",
       "      <td>500.500000</td>\n",
       "    </tr>\n",
       "    <tr>\n",
       "      <th>std</th>\n",
       "      <td>288.819436</td>\n",
       "    </tr>\n",
       "    <tr>\n",
       "      <th>min</th>\n",
       "      <td>1.000000</td>\n",
       "    </tr>\n",
       "    <tr>\n",
       "      <th>25%</th>\n",
       "      <td>250.750000</td>\n",
       "    </tr>\n",
       "    <tr>\n",
       "      <th>50%</th>\n",
       "      <td>500.500000</td>\n",
       "    </tr>\n",
       "    <tr>\n",
       "      <th>75%</th>\n",
       "      <td>750.250000</td>\n",
       "    </tr>\n",
       "    <tr>\n",
       "      <th>max</th>\n",
       "      <td>1000.000000</td>\n",
       "    </tr>\n",
       "  </tbody>\n",
       "</table>\n",
       "</div>"
      ],
      "text/plain": [
       "             SL No\n",
       "count  1000.000000\n",
       "mean    500.500000\n",
       "std     288.819436\n",
       "min       1.000000\n",
       "25%     250.750000\n",
       "50%     500.500000\n",
       "75%     750.250000\n",
       "max    1000.000000"
      ]
     },
     "execution_count": 8,
     "metadata": {},
     "output_type": "execute_result"
    }
   ],
   "source": [
    "data.describe()"
   ]
  },
  {
   "cell_type": "code",
   "execution_count": 9,
   "id": "81c26945",
   "metadata": {},
   "outputs": [
    {
     "name": "stdout",
     "output_type": "stream",
     "text": [
      "<class 'pandas.core.frame.DataFrame'>\n",
      "RangeIndex: 2160 entries, 0 to 2159\n",
      "Data columns (total 7 columns):\n",
      " #   Column                   Non-Null Count  Dtype         \n",
      "---  ------                   --------------  -----         \n",
      " 0   Date                     2160 non-null   datetime64[ns]\n",
      " 1   Agent Name               2160 non-null   object        \n",
      " 2   Total Chats              2160 non-null   int64         \n",
      " 3   Average Response Time    2160 non-null   object        \n",
      " 4   Average Resolution Time  2160 non-null   object        \n",
      " 5   Average Rating           2160 non-null   float64       \n",
      " 6   Total Feedback           2160 non-null   int64         \n",
      "dtypes: datetime64[ns](1), float64(1), int64(2), object(3)\n",
      "memory usage: 118.2+ KB\n"
     ]
    }
   ],
   "source": [
    "data1[\"Date\"]=pd.to_datetime(data1[\"Date\"])\n",
    "data1.info()"
   ]
  },
  {
   "cell_type": "code",
   "execution_count": 10,
   "id": "75a73705",
   "metadata": {},
   "outputs": [
    {
     "data": {
      "text/plain": [
       "Index(['Date', 'Agent Name', 'Total Chats', 'Average Response Time',\n",
       "       'Average Resolution Time', 'Average Rating', 'Total Feedback'],\n",
       "      dtype='object')"
      ]
     },
     "execution_count": 10,
     "metadata": {},
     "output_type": "execute_result"
    }
   ],
   "source": [
    "data1.columns"
   ]
  },
  {
   "cell_type": "code",
   "execution_count": 11,
   "id": "833ffc92",
   "metadata": {},
   "outputs": [
    {
     "data": {
      "text/plain": [
       "(30,)"
      ]
     },
     "execution_count": 11,
     "metadata": {},
     "output_type": "execute_result"
    }
   ],
   "source": [
    "data1['Date'].unique().shape"
   ]
  },
  {
   "cell_type": "markdown",
   "id": "6210b28a",
   "metadata": {},
   "source": [
    "# calculation of the number week\n",
    "## there are 30days means 4 week (4*7=28days) and 2 days\n",
    "### as working  days in the week is only 5 so only 20 days need to consider if we assume that last two days aree weekly offf"
   ]
  },
  {
   "cell_type": "markdown",
   "id": "c594ba60",
   "metadata": {},
   "source": [
    "# after calculation the numkber week \n",
    "### we come to find the average rating on weekly bassis keep this in mind that they take two days of  leave "
   ]
  },
  {
   "cell_type": "markdown",
   "id": "5ea20e3e",
   "metadata": {},
   "source": [
    "# "
   ]
  },
  {
   "cell_type": "code",
   "execution_count": 12,
   "id": "e070f45b",
   "metadata": {},
   "outputs": [
    {
     "data": {
      "text/plain": [
       "Agent Name\n",
       "Abhishek          0.0000\n",
       "Aditya            0.0000\n",
       "Aditya Shinde    13.5025\n",
       "Aditya_iot       17.5900\n",
       "Amersh            0.0000\n",
       "                  ...   \n",
       "Uday Mishra       0.0000\n",
       "Vasanth P         0.0000\n",
       "Vivek             3.7550\n",
       "Wasim            18.0000\n",
       "Zeeshan          17.1525\n",
       "Name: Average Rating, Length: 70, dtype: float64"
      ]
     },
     "execution_count": 12,
     "metadata": {},
     "output_type": "execute_result"
    }
   ],
   "source": [
    "data1.groupby('Agent Name')['Average Rating'].sum()/4"
   ]
  },
  {
   "cell_type": "markdown",
   "id": "0a3dfd0e",
   "metadata": {},
   "source": [
    "# total working days for each working"
   ]
  },
  {
   "cell_type": "code",
   "execution_count": 13,
   "id": "72073f8d",
   "metadata": {},
   "outputs": [
    {
     "data": {
      "text/html": [
       "<div>\n",
       "<style scoped>\n",
       "    .dataframe tbody tr th:only-of-type {\n",
       "        vertical-align: middle;\n",
       "    }\n",
       "\n",
       "    .dataframe tbody tr th {\n",
       "        vertical-align: top;\n",
       "    }\n",
       "\n",
       "    .dataframe thead th {\n",
       "        text-align: right;\n",
       "    }\n",
       "</style>\n",
       "<table border=\"1\" class=\"dataframe\">\n",
       "  <thead>\n",
       "    <tr style=\"text-align: right;\">\n",
       "      <th></th>\n",
       "      <th>Date</th>\n",
       "      <th>Agent Name</th>\n",
       "      <th>Total Chats</th>\n",
       "      <th>Average Response Time</th>\n",
       "      <th>Average Resolution Time</th>\n",
       "      <th>Average Rating</th>\n",
       "      <th>Total Feedback</th>\n",
       "    </tr>\n",
       "  </thead>\n",
       "  <tbody>\n",
       "    <tr>\n",
       "      <th>0</th>\n",
       "      <td>2022-07-30</td>\n",
       "      <td>Prerna Singh</td>\n",
       "      <td>11</td>\n",
       "      <td>0:00:38</td>\n",
       "      <td>0:04:20</td>\n",
       "      <td>4.11</td>\n",
       "      <td>9</td>\n",
       "    </tr>\n",
       "    <tr>\n",
       "      <th>1</th>\n",
       "      <td>2022-07-30</td>\n",
       "      <td>Nandani Gupta</td>\n",
       "      <td>11</td>\n",
       "      <td>0:01:15</td>\n",
       "      <td>0:28:25</td>\n",
       "      <td>3.14</td>\n",
       "      <td>7</td>\n",
       "    </tr>\n",
       "    <tr>\n",
       "      <th>2</th>\n",
       "      <td>2022-07-30</td>\n",
       "      <td>Ameya Jain</td>\n",
       "      <td>14</td>\n",
       "      <td>0:00:30</td>\n",
       "      <td>0:11:36</td>\n",
       "      <td>4.55</td>\n",
       "      <td>11</td>\n",
       "    </tr>\n",
       "    <tr>\n",
       "      <th>3</th>\n",
       "      <td>2022-07-30</td>\n",
       "      <td>Mahesh Sarade</td>\n",
       "      <td>14</td>\n",
       "      <td>0:01:04</td>\n",
       "      <td>0:15:46</td>\n",
       "      <td>4.71</td>\n",
       "      <td>7</td>\n",
       "    </tr>\n",
       "    <tr>\n",
       "      <th>4</th>\n",
       "      <td>2022-07-30</td>\n",
       "      <td>Swati</td>\n",
       "      <td>14</td>\n",
       "      <td>0:01:11</td>\n",
       "      <td>0:16:33</td>\n",
       "      <td>3.67</td>\n",
       "      <td>6</td>\n",
       "    </tr>\n",
       "    <tr>\n",
       "      <th>...</th>\n",
       "      <td>...</td>\n",
       "      <td>...</td>\n",
       "      <td>...</td>\n",
       "      <td>...</td>\n",
       "      <td>...</td>\n",
       "      <td>...</td>\n",
       "      <td>...</td>\n",
       "    </tr>\n",
       "    <tr>\n",
       "      <th>2101</th>\n",
       "      <td>2022-07-01</td>\n",
       "      <td>Jaydeep Dixit</td>\n",
       "      <td>25</td>\n",
       "      <td>0:01:15</td>\n",
       "      <td>0:26:27</td>\n",
       "      <td>4.77</td>\n",
       "      <td>13</td>\n",
       "    </tr>\n",
       "    <tr>\n",
       "      <th>2102</th>\n",
       "      <td>2022-07-01</td>\n",
       "      <td>Shivananda Sonwane</td>\n",
       "      <td>23</td>\n",
       "      <td>0:01:24</td>\n",
       "      <td>0:30:14</td>\n",
       "      <td>4.86</td>\n",
       "      <td>14</td>\n",
       "    </tr>\n",
       "    <tr>\n",
       "      <th>2103</th>\n",
       "      <td>2022-07-01</td>\n",
       "      <td>Khushboo Priya</td>\n",
       "      <td>24</td>\n",
       "      <td>0:01:46</td>\n",
       "      <td>0:29:28</td>\n",
       "      <td>4.61</td>\n",
       "      <td>18</td>\n",
       "    </tr>\n",
       "    <tr>\n",
       "      <th>2104</th>\n",
       "      <td>2022-07-01</td>\n",
       "      <td>Hrisikesh Neogi</td>\n",
       "      <td>15</td>\n",
       "      <td>0:01:05</td>\n",
       "      <td>0:25:29</td>\n",
       "      <td>4.56</td>\n",
       "      <td>9</td>\n",
       "    </tr>\n",
       "    <tr>\n",
       "      <th>2105</th>\n",
       "      <td>2022-07-01</td>\n",
       "      <td>Tarun</td>\n",
       "      <td>22</td>\n",
       "      <td>0:00:00</td>\n",
       "      <td>0:45:14</td>\n",
       "      <td>1.50</td>\n",
       "      <td>6</td>\n",
       "    </tr>\n",
       "  </tbody>\n",
       "</table>\n",
       "<p>745 rows × 7 columns</p>\n",
       "</div>"
      ],
      "text/plain": [
       "           Date          Agent Name  Total Chats Average Response Time  \\\n",
       "0    2022-07-30        Prerna Singh           11               0:00:38   \n",
       "1    2022-07-30       Nandani Gupta           11               0:01:15   \n",
       "2    2022-07-30          Ameya Jain           14               0:00:30   \n",
       "3    2022-07-30       Mahesh Sarade           14               0:01:04   \n",
       "4    2022-07-30              Swati            14               0:01:11   \n",
       "...         ...                 ...          ...                   ...   \n",
       "2101 2022-07-01       Jaydeep Dixit           25               0:01:15   \n",
       "2102 2022-07-01  Shivananda Sonwane           23               0:01:24   \n",
       "2103 2022-07-01      Khushboo Priya           24               0:01:46   \n",
       "2104 2022-07-01     Hrisikesh Neogi           15               0:01:05   \n",
       "2105 2022-07-01              Tarun            22               0:00:00   \n",
       "\n",
       "     Average Resolution Time  Average Rating  Total Feedback  \n",
       "0                    0:04:20            4.11               9  \n",
       "1                    0:28:25            3.14               7  \n",
       "2                    0:11:36            4.55              11  \n",
       "3                    0:15:46            4.71               7  \n",
       "4                    0:16:33            3.67               6  \n",
       "...                      ...             ...             ...  \n",
       "2101                 0:26:27            4.77              13  \n",
       "2102                 0:30:14            4.86              14  \n",
       "2103                 0:29:28            4.61              18  \n",
       "2104                 0:25:29            4.56               9  \n",
       "2105                 0:45:14            1.50               6  \n",
       "\n",
       "[745 rows x 7 columns]"
      ]
     },
     "execution_count": 13,
     "metadata": {},
     "output_type": "execute_result"
    }
   ],
   "source": [
    "agent_chat=data1[data1['Total Chats']>0]\n",
    "agent_chat"
   ]
  },
  {
   "cell_type": "code",
   "execution_count": 14,
   "id": "2023d9e0",
   "metadata": {},
   "outputs": [
    {
     "data": {
      "text/plain": [
       "Agent Name\n",
       "Aditya Shinde             12\n",
       "Aditya_iot                17\n",
       "Ameya Jain                15\n",
       "Anirudh                    7\n",
       "Ankitjha                   3\n",
       "Anurag Tiwari              2\n",
       "Aravind                   14\n",
       "Ashad Nasim                2\n",
       "Ayushi Mishra             24\n",
       "Bharath                   19\n",
       "Boktiar Ahmed Bappy       26\n",
       "Chaitra K Hiremath         6\n",
       "Deepranjan Gupta          21\n",
       "Dibyanshu                  1\n",
       "Harikrishnan Shaji        19\n",
       "Hitesh Choudhary           1\n",
       "Hrisikesh Neogi           21\n",
       "Ishawant Kumar            24\n",
       "Jawala Prakash            25\n",
       "Jayant Kumar               8\n",
       "Jaydeep Dixit             21\n",
       "Khushboo Priya            26\n",
       "Madhulika G               24\n",
       "Mahak                      1\n",
       "Mahesh Sarade             18\n",
       "Maitry                    20\n",
       "Maneesh                    3\n",
       "Manjunatha A              25\n",
       "Mithun S                  18\n",
       "Mukesh                     2\n",
       "Mukesh Rao                 3\n",
       "Muskan Garg                5\n",
       "Nandani Gupta             21\n",
       "Nishtha Jain              23\n",
       "Prabir Kumar Satapathy    17\n",
       "Prateek _iot              17\n",
       "Prerna Singh              22\n",
       "Rishav Dash               21\n",
       "Saikumarreddy N           13\n",
       "Samprit                    1\n",
       "Sandipan Saha              3\n",
       "Sanjeev Kumar             23\n",
       "Saurabh Shukla             4\n",
       "Shiva Srivastava           7\n",
       "Shivan K                  22\n",
       "Shivan_S                   1\n",
       "Shivananda Sonwane        28\n",
       "Shubham Sharma            21\n",
       "Sowmiya Sivakumar          9\n",
       "Sudhanshu Kumar            2\n",
       "Suraj S Bilgi              2\n",
       "Swati                     17\n",
       "Tarun                      1\n",
       "Vivek                      5\n",
       "Wasim                     16\n",
       "Zeeshan                   16\n",
       "Name: Total Chats, dtype: int64"
      ]
     },
     "execution_count": 14,
     "metadata": {},
     "output_type": "execute_result"
    }
   ],
   "source": [
    "#agent present day \n",
    "agent_chat.groupby('Agent Name')['Total Chats'].count()"
   ]
  },
  {
   "cell_type": "code",
   "execution_count": 15,
   "id": "cfea22d3",
   "metadata": {},
   "outputs": [
    {
     "data": {
      "text/plain": [
       "1"
      ]
     },
     "execution_count": 15,
     "metadata": {},
     "output_type": "execute_result"
    }
   ],
   "source": [
    "agent_chat.groupby('Agent Name')['Total Chats'].count().min()"
   ]
  },
  {
   "cell_type": "code",
   "execution_count": 16,
   "id": "d1adff39",
   "metadata": {},
   "outputs": [
    {
     "data": {
      "text/plain": [
       "28"
      ]
     },
     "execution_count": 16,
     "metadata": {},
     "output_type": "execute_result"
    }
   ],
   "source": [
    "agent_chat.groupby('Agent Name')['Total Chats'].count().max()"
   ]
  },
  {
   "cell_type": "markdown",
   "id": "56610e14",
   "metadata": {},
   "source": [
    "## observation \n",
    "### minimum working day is 1  and maximum working day is 28"
   ]
  },
  {
   "cell_type": "markdown",
   "id": "1f58a3e3",
   "metadata": {},
   "source": [
    "# 3 total query that a agent has taken "
   ]
  },
  {
   "cell_type": "code",
   "execution_count": 17,
   "id": "e221341c",
   "metadata": {},
   "outputs": [
    {
     "data": {
      "text/plain": [
       "Agent Name\n",
       "Abhishek           0\n",
       "Aditya             0\n",
       "Aditya Shinde    277\n",
       "Aditya_iot       231\n",
       "Amersh             0\n",
       "                ... \n",
       "Uday Mishra        0\n",
       "Vasanth P          0\n",
       "Vivek             44\n",
       "Wasim            433\n",
       "Zeeshan          542\n",
       "Name: Total Chats, Length: 70, dtype: int64"
      ]
     },
     "execution_count": 17,
     "metadata": {},
     "output_type": "execute_result"
    }
   ],
   "source": [
    "data1.groupby('Agent Name')['Total Chats'].sum()"
   ]
  },
  {
   "cell_type": "markdown",
   "id": "1f1c61bc",
   "metadata": {},
   "source": [
    "# total feedback that agent has received"
   ]
  },
  {
   "cell_type": "code",
   "execution_count": 18,
   "id": "b14403f7",
   "metadata": {},
   "outputs": [
    {
     "data": {
      "text/plain": [
       "Agent Name\n",
       "Abhishek           0\n",
       "Aditya             0\n",
       "Aditya Shinde    153\n",
       "Aditya_iot       131\n",
       "Amersh             0\n",
       "                ... \n",
       "Uday Mishra        0\n",
       "Vasanth P          0\n",
       "Vivek             20\n",
       "Wasim            284\n",
       "Zeeshan          335\n",
       "Name: Total Feedback, Length: 70, dtype: int64"
      ]
     },
     "execution_count": 18,
     "metadata": {},
     "output_type": "execute_result"
    }
   ],
   "source": [
    "data1.groupby('Agent Name')['Total Feedback'].sum()"
   ]
  },
  {
   "cell_type": "markdown",
   "id": "0f18ee4f",
   "metadata": {},
   "source": [
    "# 5. A agent name who have average rating between 3.5 to 4"
   ]
  },
  {
   "cell_type": "code",
   "execution_count": 19,
   "id": "63765c4a",
   "metadata": {},
   "outputs": [
    {
     "data": {
      "text/html": [
       "<div>\n",
       "<style scoped>\n",
       "    .dataframe tbody tr th:only-of-type {\n",
       "        vertical-align: middle;\n",
       "    }\n",
       "\n",
       "    .dataframe tbody tr th {\n",
       "        vertical-align: top;\n",
       "    }\n",
       "\n",
       "    .dataframe thead th {\n",
       "        text-align: right;\n",
       "    }\n",
       "</style>\n",
       "<table border=\"1\" class=\"dataframe\">\n",
       "  <thead>\n",
       "    <tr style=\"text-align: right;\">\n",
       "      <th></th>\n",
       "      <th>Date</th>\n",
       "      <th>Agent Name</th>\n",
       "      <th>Total Chats</th>\n",
       "      <th>Average Response Time</th>\n",
       "      <th>Average Resolution Time</th>\n",
       "      <th>Average Rating</th>\n",
       "      <th>Total Feedback</th>\n",
       "    </tr>\n",
       "  </thead>\n",
       "  <tbody>\n",
       "    <tr>\n",
       "      <th>4</th>\n",
       "      <td>2022-07-30</td>\n",
       "      <td>Swati</td>\n",
       "      <td>14</td>\n",
       "      <td>0:01:11</td>\n",
       "      <td>0:16:33</td>\n",
       "      <td>3.67</td>\n",
       "      <td>6</td>\n",
       "    </tr>\n",
       "    <tr>\n",
       "      <th>10</th>\n",
       "      <td>2022-07-30</td>\n",
       "      <td>Manjunatha A</td>\n",
       "      <td>11</td>\n",
       "      <td>0:00:47</td>\n",
       "      <td>0:42:56</td>\n",
       "      <td>3.60</td>\n",
       "      <td>5</td>\n",
       "    </tr>\n",
       "    <tr>\n",
       "      <th>76</th>\n",
       "      <td>2022-07-29</td>\n",
       "      <td>Prateek _iot</td>\n",
       "      <td>8</td>\n",
       "      <td>0:00:36</td>\n",
       "      <td>0:10:41</td>\n",
       "      <td>3.75</td>\n",
       "      <td>4</td>\n",
       "    </tr>\n",
       "    <tr>\n",
       "      <th>78</th>\n",
       "      <td>2022-07-29</td>\n",
       "      <td>Nandani Gupta</td>\n",
       "      <td>24</td>\n",
       "      <td>0:01:24</td>\n",
       "      <td>0:28:53</td>\n",
       "      <td>3.79</td>\n",
       "      <td>14</td>\n",
       "    </tr>\n",
       "    <tr>\n",
       "      <th>80</th>\n",
       "      <td>2022-07-29</td>\n",
       "      <td>Jaydeep Dixit</td>\n",
       "      <td>27</td>\n",
       "      <td>0:00:52</td>\n",
       "      <td>0:24:13</td>\n",
       "      <td>3.95</td>\n",
       "      <td>22</td>\n",
       "    </tr>\n",
       "    <tr>\n",
       "      <th>...</th>\n",
       "      <td>...</td>\n",
       "      <td>...</td>\n",
       "      <td>...</td>\n",
       "      <td>...</td>\n",
       "      <td>...</td>\n",
       "      <td>...</td>\n",
       "      <td>...</td>\n",
       "    </tr>\n",
       "    <tr>\n",
       "      <th>1869</th>\n",
       "      <td>2022-07-05</td>\n",
       "      <td>Boktiar Ahmed Bappy</td>\n",
       "      <td>24</td>\n",
       "      <td>0:00:53</td>\n",
       "      <td>0:09:53</td>\n",
       "      <td>3.78</td>\n",
       "      <td>18</td>\n",
       "    </tr>\n",
       "    <tr>\n",
       "      <th>1874</th>\n",
       "      <td>2022-07-04</td>\n",
       "      <td>Ayushi Mishra</td>\n",
       "      <td>29</td>\n",
       "      <td>0:01:11</td>\n",
       "      <td>0:17:59</td>\n",
       "      <td>3.80</td>\n",
       "      <td>20</td>\n",
       "    </tr>\n",
       "    <tr>\n",
       "      <th>1941</th>\n",
       "      <td>2022-07-04</td>\n",
       "      <td>Jawala Prakash</td>\n",
       "      <td>6</td>\n",
       "      <td>0:00:44</td>\n",
       "      <td>0:02:28</td>\n",
       "      <td>3.80</td>\n",
       "      <td>5</td>\n",
       "    </tr>\n",
       "    <tr>\n",
       "      <th>2021</th>\n",
       "      <td>2022-07-02</td>\n",
       "      <td>Aditya Shinde</td>\n",
       "      <td>57</td>\n",
       "      <td>0:01:26</td>\n",
       "      <td>0:19:52</td>\n",
       "      <td>3.54</td>\n",
       "      <td>28</td>\n",
       "    </tr>\n",
       "    <tr>\n",
       "      <th>2023</th>\n",
       "      <td>2022-07-02</td>\n",
       "      <td>Deepranjan Gupta</td>\n",
       "      <td>52</td>\n",
       "      <td>0:01:10</td>\n",
       "      <td>0:35:14</td>\n",
       "      <td>3.71</td>\n",
       "      <td>24</td>\n",
       "    </tr>\n",
       "  </tbody>\n",
       "</table>\n",
       "<p>78 rows × 7 columns</p>\n",
       "</div>"
      ],
      "text/plain": [
       "           Date           Agent Name  Total Chats Average Response Time  \\\n",
       "4    2022-07-30               Swati            14               0:01:11   \n",
       "10   2022-07-30         Manjunatha A           11               0:00:47   \n",
       "76   2022-07-29        Prateek _iot             8               0:00:36   \n",
       "78   2022-07-29        Nandani Gupta           24               0:01:24   \n",
       "80   2022-07-29        Jaydeep Dixit           27               0:00:52   \n",
       "...         ...                  ...          ...                   ...   \n",
       "1869 2022-07-05  Boktiar Ahmed Bappy           24               0:00:53   \n",
       "1874 2022-07-04        Ayushi Mishra           29               0:01:11   \n",
       "1941 2022-07-04       Jawala Prakash            6               0:00:44   \n",
       "2021 2022-07-02        Aditya Shinde           57               0:01:26   \n",
       "2023 2022-07-02     Deepranjan Gupta           52               0:01:10   \n",
       "\n",
       "     Average Resolution Time  Average Rating  Total Feedback  \n",
       "4                    0:16:33            3.67               6  \n",
       "10                   0:42:56            3.60               5  \n",
       "76                   0:10:41            3.75               4  \n",
       "78                   0:28:53            3.79              14  \n",
       "80                   0:24:13            3.95              22  \n",
       "...                      ...             ...             ...  \n",
       "1869                 0:09:53            3.78              18  \n",
       "1874                 0:17:59            3.80              20  \n",
       "1941                 0:02:28            3.80               5  \n",
       "2021                 0:19:52            3.54              28  \n",
       "2023                 0:35:14            3.71              24  \n",
       "\n",
       "[78 rows x 7 columns]"
      ]
     },
     "execution_count": 19,
     "metadata": {},
     "output_type": "execute_result"
    }
   ],
   "source": [
    "data1[(data1['Average Rating']>3.5) & (data1['Average Rating'] < 4)]"
   ]
  },
  {
   "cell_type": "markdown",
   "id": "938c75a0",
   "metadata": {},
   "source": [
    "# 6 . Agent name who have rating lesss then 3.5"
   ]
  },
  {
   "cell_type": "markdown",
   "id": "d5fa297a",
   "metadata": {},
   "source": [
    "# following are 1474 agents whoes rating are lesss than 3.5"
   ]
  },
  {
   "cell_type": "code",
   "execution_count": 20,
   "id": "a615d1c5",
   "metadata": {
    "scrolled": true
   },
   "outputs": [
    {
     "data": {
      "text/plain": [
       "1            Nandani Gupta\n",
       "19        Hitesh Choudhary\n",
       "20              Sanjeevan \n",
       "21                Anirudh \n",
       "22        Shiva Srivastava\n",
       "               ...        \n",
       "2155     Sowmiya Sivakumar\n",
       "2156               Nitin M\n",
       "2157                Vivek \n",
       "2158         Ayushi Mishra\n",
       "2159    Chaitra K Hiremath\n",
       "Name: Agent Name, Length: 1474, dtype: object"
      ]
     },
     "execution_count": 20,
     "metadata": {},
     "output_type": "execute_result"
    }
   ],
   "source": [
    "data1[data1['Average Rating'] < 3.5]['Agent Name']"
   ]
  },
  {
   "cell_type": "code",
   "execution_count": 21,
   "id": "981cab62",
   "metadata": {
    "scrolled": true
   },
   "outputs": [
    {
     "data": {
      "text/plain": [
       "2               Ameya Jain\n",
       "3            Mahesh Sarade\n",
       "5                  Mukesh \n",
       "6          Saikumarreddy N\n",
       "7            Sanjeev Kumar\n",
       "               ...        \n",
       "2100        Shubham Sharma\n",
       "2101         Jaydeep Dixit\n",
       "2102    Shivananda Sonwane\n",
       "2103        Khushboo Priya\n",
       "2104       Hrisikesh Neogi\n",
       "Name: Agent Name, Length: 307, dtype: object"
      ]
     },
     "execution_count": 21,
     "metadata": {},
     "output_type": "execute_result"
    }
   ],
   "source": [
    "data1[data1['Average Rating']>4.5]['Agent Name']"
   ]
  },
  {
   "cell_type": "markdown",
   "id": "c5b1046f",
   "metadata": {},
   "source": [
    "## 8 . how many feedaback agents have received more then 4.5 average "
   ]
  },
  {
   "cell_type": "code",
   "execution_count": 22,
   "id": "d6c81e59",
   "metadata": {},
   "outputs": [
    {
     "data": {
      "text/plain": [
       "Agent Name\n",
       "Abhishek           0\n",
       "Aditya             0\n",
       "Aditya Shinde    153\n",
       "Aditya_iot       131\n",
       "Amersh             0\n",
       "                ... \n",
       "Uday Mishra        0\n",
       "Vasanth P          0\n",
       "Vivek             20\n",
       "Wasim            284\n",
       "Zeeshan          335\n",
       "Name: Total Feedback, Length: 70, dtype: int64"
      ]
     },
     "execution_count": 22,
     "metadata": {},
     "output_type": "execute_result"
    }
   ],
   "source": [
    "data1.groupby('Agent Name')['Total Feedback'].sum()"
   ]
  },
  {
   "cell_type": "markdown",
   "id": "c0fe26b4",
   "metadata": {},
   "source": [
    "# 9 Average weekly response tme for each agent \n",
    "\n",
    "\n",
    "# 1 always check the data type \n",
    "# convert data type into the time scale \n",
    "# then check the chage"
   ]
  },
  {
   "cell_type": "code",
   "execution_count": 23,
   "id": "e7a73a96",
   "metadata": {},
   "outputs": [
    {
     "data": {
      "text/plain": [
       "dtype('O')"
      ]
     },
     "execution_count": 23,
     "metadata": {},
     "output_type": "execute_result"
    }
   ],
   "source": [
    "data1['Average Response Time'].dtype"
   ]
  },
  {
   "cell_type": "code",
   "execution_count": 24,
   "id": "b97402b0",
   "metadata": {},
   "outputs": [
    {
     "data": {
      "text/plain": [
       "dtype('<M8[ns]')"
      ]
     },
     "execution_count": 24,
     "metadata": {},
     "output_type": "execute_result"
    }
   ],
   "source": [
    "data1['Average Response Time']= pd.to_datetime(data1['Average Response Time'])\n",
    "data1['Average Response Time'].dtype"
   ]
  },
  {
   "cell_type": "code",
   "execution_count": 25,
   "id": "5c6c4c66",
   "metadata": {},
   "outputs": [],
   "source": [
    "data1['AVT_hour'] = data1['Average Response Time'].dt.hour\n",
    "data1['AVT_min'] = data1['Average Response Time'].dt.minute\n",
    "\n",
    "data1['AVT_sec'] = data1['Average Response Time'].dt.second\n",
    "# conversion has done"
   ]
  },
  {
   "cell_type": "code",
   "execution_count": 26,
   "id": "6e4aed4f",
   "metadata": {},
   "outputs": [
    {
     "data": {
      "text/html": [
       "<div>\n",
       "<style scoped>\n",
       "    .dataframe tbody tr th:only-of-type {\n",
       "        vertical-align: middle;\n",
       "    }\n",
       "\n",
       "    .dataframe tbody tr th {\n",
       "        vertical-align: top;\n",
       "    }\n",
       "\n",
       "    .dataframe thead th {\n",
       "        text-align: right;\n",
       "    }\n",
       "</style>\n",
       "<table border=\"1\" class=\"dataframe\">\n",
       "  <thead>\n",
       "    <tr style=\"text-align: right;\">\n",
       "      <th></th>\n",
       "      <th>Date</th>\n",
       "      <th>Agent Name</th>\n",
       "      <th>Total Chats</th>\n",
       "      <th>Average Response Time</th>\n",
       "      <th>Average Resolution Time</th>\n",
       "      <th>Average Rating</th>\n",
       "      <th>Total Feedback</th>\n",
       "      <th>AVT_hour</th>\n",
       "      <th>AVT_min</th>\n",
       "      <th>AVT_sec</th>\n",
       "    </tr>\n",
       "  </thead>\n",
       "  <tbody>\n",
       "    <tr>\n",
       "      <th>0</th>\n",
       "      <td>2022-07-30</td>\n",
       "      <td>Prerna Singh</td>\n",
       "      <td>11</td>\n",
       "      <td>2023-09-14 00:00:38</td>\n",
       "      <td>0:04:20</td>\n",
       "      <td>4.11</td>\n",
       "      <td>9</td>\n",
       "      <td>0</td>\n",
       "      <td>0</td>\n",
       "      <td>38</td>\n",
       "    </tr>\n",
       "    <tr>\n",
       "      <th>1</th>\n",
       "      <td>2022-07-30</td>\n",
       "      <td>Nandani Gupta</td>\n",
       "      <td>11</td>\n",
       "      <td>2023-09-14 00:01:15</td>\n",
       "      <td>0:28:25</td>\n",
       "      <td>3.14</td>\n",
       "      <td>7</td>\n",
       "      <td>0</td>\n",
       "      <td>1</td>\n",
       "      <td>15</td>\n",
       "    </tr>\n",
       "    <tr>\n",
       "      <th>2</th>\n",
       "      <td>2022-07-30</td>\n",
       "      <td>Ameya Jain</td>\n",
       "      <td>14</td>\n",
       "      <td>2023-09-14 00:00:30</td>\n",
       "      <td>0:11:36</td>\n",
       "      <td>4.55</td>\n",
       "      <td>11</td>\n",
       "      <td>0</td>\n",
       "      <td>0</td>\n",
       "      <td>30</td>\n",
       "    </tr>\n",
       "    <tr>\n",
       "      <th>3</th>\n",
       "      <td>2022-07-30</td>\n",
       "      <td>Mahesh Sarade</td>\n",
       "      <td>14</td>\n",
       "      <td>2023-09-14 00:01:04</td>\n",
       "      <td>0:15:46</td>\n",
       "      <td>4.71</td>\n",
       "      <td>7</td>\n",
       "      <td>0</td>\n",
       "      <td>1</td>\n",
       "      <td>4</td>\n",
       "    </tr>\n",
       "    <tr>\n",
       "      <th>4</th>\n",
       "      <td>2022-07-30</td>\n",
       "      <td>Swati</td>\n",
       "      <td>14</td>\n",
       "      <td>2023-09-14 00:01:11</td>\n",
       "      <td>0:16:33</td>\n",
       "      <td>3.67</td>\n",
       "      <td>6</td>\n",
       "      <td>0</td>\n",
       "      <td>1</td>\n",
       "      <td>11</td>\n",
       "    </tr>\n",
       "  </tbody>\n",
       "</table>\n",
       "</div>"
      ],
      "text/plain": [
       "        Date     Agent Name  Total Chats Average Response Time  \\\n",
       "0 2022-07-30   Prerna Singh           11   2023-09-14 00:00:38   \n",
       "1 2022-07-30  Nandani Gupta           11   2023-09-14 00:01:15   \n",
       "2 2022-07-30     Ameya Jain           14   2023-09-14 00:00:30   \n",
       "3 2022-07-30  Mahesh Sarade           14   2023-09-14 00:01:04   \n",
       "4 2022-07-30         Swati            14   2023-09-14 00:01:11   \n",
       "\n",
       "  Average Resolution Time  Average Rating  Total Feedback  AVT_hour  AVT_min  \\\n",
       "0                 0:04:20            4.11               9         0        0   \n",
       "1                 0:28:25            3.14               7         0        1   \n",
       "2                 0:11:36            4.55              11         0        0   \n",
       "3                 0:15:46            4.71               7         0        1   \n",
       "4                 0:16:33            3.67               6         0        1   \n",
       "\n",
       "   AVT_sec  \n",
       "0       38  \n",
       "1       15  \n",
       "2       30  \n",
       "3        4  \n",
       "4       11  "
      ]
     },
     "execution_count": 26,
     "metadata": {},
     "output_type": "execute_result"
    }
   ],
   "source": [
    "data1.head(5)"
   ]
  },
  {
   "cell_type": "code",
   "execution_count": 27,
   "id": "0c10411a",
   "metadata": {},
   "outputs": [
    {
     "data": {
      "text/plain": [
       "Agent Name\n",
       "Abhishek            0.00\n",
       "Aditya              0.00\n",
       "Aditya Shinde     673.00\n",
       "Aditya_iot        524.75\n",
       "Amersh              0.00\n",
       "                  ...   \n",
       "Uday Mishra         0.00\n",
       "Vasanth P           0.00\n",
       "Vivek             282.75\n",
       "Wasim             492.75\n",
       "Zeeshan          1453.00\n",
       "Length: 70, dtype: float64"
      ]
     },
     "execution_count": 27,
     "metadata": {},
     "output_type": "execute_result"
    }
   ],
   "source": [
    "(data1.groupby('Agent Name')['AVT_hour'].sum()*60*60)+(data1.groupby('Agent Name')['AVT_min'].sum()*60) + (data1.groupby('Agent Name')['AVT_sec'].sum())/4\n"
   ]
  },
  {
   "cell_type": "markdown",
   "id": "e6d40659",
   "metadata": {},
   "source": [
    "# average weekly resolutipon time for each agent "
   ]
  },
  {
   "cell_type": "code",
   "execution_count": 28,
   "id": "49f70e34",
   "metadata": {},
   "outputs": [
    {
     "data": {
      "text/plain": [
       "dtype('O')"
      ]
     },
     "execution_count": 28,
     "metadata": {},
     "output_type": "execute_result"
    }
   ],
   "source": [
    "data1['Average Resolution Time'].dtype"
   ]
  },
  {
   "cell_type": "code",
   "execution_count": 29,
   "id": "b0d44884",
   "metadata": {},
   "outputs": [
    {
     "data": {
      "text/plain": [
       "dtype('<M8[ns]')"
      ]
     },
     "execution_count": 29,
     "metadata": {},
     "output_type": "execute_result"
    }
   ],
   "source": [
    "# convert object data into time scale\n",
    "data1['Average Resolution Time']=pd.to_datetime(data1['Average Resolution Time'])\n",
    "data1['Average Resolution Time'].dtype"
   ]
  },
  {
   "cell_type": "code",
   "execution_count": 30,
   "id": "963eb7b1",
   "metadata": {},
   "outputs": [],
   "source": [
    "data1['ART_hour'] = data1['Average Resolution Time'].dt.hour\n",
    "data1['ART_min'] = data1['Average Resolution Time'].dt.minute\n",
    "\n",
    "data1['ART_sec'] = data1['Average Resolution Time'].dt.second\n",
    "# conversion has done"
   ]
  },
  {
   "cell_type": "code",
   "execution_count": 31,
   "id": "ec91758e",
   "metadata": {},
   "outputs": [
    {
     "data": {
      "text/plain": [
       "Agent Name\n",
       "Abhishek             0.00\n",
       "Aditya               0.00\n",
       "Aditya Shinde    18379.75\n",
       "Aditya_iot       17244.75\n",
       "Amersh               0.00\n",
       "                   ...   \n",
       "Uday Mishra          0.00\n",
       "Vasanth P            0.00\n",
       "Vivek             4475.75\n",
       "Wasim            20286.50\n",
       "Zeeshan          19058.00\n",
       "Length: 70, dtype: float64"
      ]
     },
     "execution_count": 31,
     "metadata": {},
     "output_type": "execute_result"
    }
   ],
   "source": [
    "(data1.groupby('Agent Name')['ART_hour'].sum()*60*60)+(data1.groupby('Agent Name')['ART_min'].sum()*60) + (data1.groupby('Agent Name')['ART_sec'].sum())/4\n"
   ]
  },
  {
   "cell_type": "code",
   "execution_count": 32,
   "id": "9095d076",
   "metadata": {},
   "outputs": [
    {
     "data": {
      "text/plain": [
       "array(['Prerna Singh', 'Nandani Gupta', 'Ameya Jain', 'Mahesh Sarade',\n",
       "       'Swati ', 'Mukesh ', 'Saikumarreddy N', 'Sanjeev Kumar',\n",
       "       'Shubham Sharma', 'Nishtha Jain', 'Manjunatha A', 'Khushboo Priya',\n",
       "       'Suraj S Bilgi', 'Harikrishnan Shaji', 'Hrisikesh Neogi',\n",
       "       'Shivan K', 'Sowmiya Sivakumar', 'Madhulika G', 'Mithun S',\n",
       "       'Hitesh Choudhary', 'Sanjeevan ', 'Anirudh ', 'Shiva Srivastava',\n",
       "       'Dibyanshu ', 'Ashish ', 'Uday Mishra', 'Aditya Shinde',\n",
       "       'Jayant Kumar', 'Aditya_iot ', 'Prabir Kumar Satapathy',\n",
       "       'Saurabh Shukla', 'Wasim ', 'Samprit ', 'Maitry ', 'Abhishek ',\n",
       "       'Rishav Dash', 'Aravind ', 'Tarun ', 'Muskan Garg', 'Ankit Sharma',\n",
       "       'Bharath ', 'Ashad Nasim', 'Vasanth P', 'Aditya ', 'Amersh ',\n",
       "       'Sandipan Saha', 'Ineuron Intelligence ', 'Mahak ', 'Mukesh Rao ',\n",
       "       'Zeeshan ', 'Anurag Tiwari', 'Ankitjha ', 'Saif Khan',\n",
       "       'Jaydeep Dixit', 'Sudhanshu Kumar', 'Maneesh ', 'Hyder Abbas',\n",
       "       'Rohan ', 'Vivek ', 'Nitin M', 'Shivan_S ', 'Spuri ',\n",
       "       'Ayushi Mishra', 'Chaitra K Hiremath', 'Prateek _iot ',\n",
       "       'Boktiar Ahmed Bappy', 'Shivananda Sonwane', 'Ishawant Kumar',\n",
       "       'Deepranjan Gupta', 'Jawala Prakash'], dtype=object)"
      ]
     },
     "execution_count": 32,
     "metadata": {},
     "output_type": "execute_result"
    }
   ],
   "source": [
    "data1['Agent Name'].unique()"
   ]
  },
  {
   "cell_type": "markdown",
   "id": "0183ea0b",
   "metadata": {},
   "source": [
    "# 12 . Percentage of chat on which they have received a feedback\n",
    "percentage of chat on which they have received a feedback = ((total chats - total feedbacks)/total chats)*100\n",
    "or\n",
    "percentage of chat on which they have received a feedback = ((total feedbacks)/(total chats))*100"
   ]
  },
  {
   "cell_type": "code",
   "execution_count": 33,
   "id": "d28a393a",
   "metadata": {},
   "outputs": [
    {
     "data": {
      "text/plain": [
       "Agent Name\n",
       "Abhishek           0\n",
       "Aditya             0\n",
       "Aditya Shinde    277\n",
       "Aditya_iot       231\n",
       "Amersh             0\n",
       "                ... \n",
       "Uday Mishra        0\n",
       "Vasanth P          0\n",
       "Vivek             44\n",
       "Wasim            433\n",
       "Zeeshan          542\n",
       "Name: Total Chats, Length: 70, dtype: int64"
      ]
     },
     "execution_count": 33,
     "metadata": {},
     "output_type": "execute_result"
    }
   ],
   "source": [
    "data1.groupby('Agent Name')['Total Chats'].sum()"
   ]
  },
  {
   "cell_type": "code",
   "execution_count": 34,
   "id": "ca9beb7c",
   "metadata": {},
   "outputs": [
    {
     "data": {
      "text/plain": [
       "Agent Name\n",
       "Abhishek           0\n",
       "Aditya             0\n",
       "Aditya Shinde    153\n",
       "Aditya_iot       131\n",
       "Amersh             0\n",
       "                ... \n",
       "Uday Mishra        0\n",
       "Vasanth P          0\n",
       "Vivek             20\n",
       "Wasim            284\n",
       "Zeeshan          335\n",
       "Name: Total Feedback, Length: 70, dtype: int64"
      ]
     },
     "execution_count": 34,
     "metadata": {},
     "output_type": "execute_result"
    }
   ],
   "source": [
    "data1.groupby('Agent Name')['Total Feedback'].sum()"
   ]
  },
  {
   "cell_type": "code",
   "execution_count": 35,
   "id": "265aaef9",
   "metadata": {},
   "outputs": [],
   "source": [
    "feedback_received = (((data1.groupby('Agent Name')['Total Chats'].sum()) - (data1.groupby('Agent Name')['Total Feedback'].sum()))/(data1.groupby('Agent Name')['Total Chats'].sum()))*100\n"
   ]
  },
  {
   "cell_type": "code",
   "execution_count": 36,
   "id": "c6f48aa0",
   "metadata": {},
   "outputs": [
    {
     "name": "stdout",
     "output_type": "stream",
     "text": [
      "Agent Name\n",
      "Abhishek               NaN\n",
      "Aditya                 NaN\n",
      "Aditya Shinde    44.765343\n",
      "Aditya_iot       43.290043\n",
      "Amersh                 NaN\n",
      "                   ...    \n",
      "Uday Mishra            NaN\n",
      "Vasanth P              NaN\n",
      "Vivek            54.545455\n",
      "Wasim            34.411085\n",
      "Zeeshan          38.191882\n",
      "Length: 70, dtype: float64\n"
     ]
    }
   ],
   "source": [
    "print(feedback_received)"
   ]
  },
  {
   "cell_type": "code",
   "execution_count": 37,
   "id": "a1c1f0e0",
   "metadata": {},
   "outputs": [],
   "source": [
    "feedback_received2=((data1.groupby('Agent Name')['Total Feedback'].sum())/(data1.groupby('Agent Name')['Total Chats'].sum()))*100\n"
   ]
  },
  {
   "cell_type": "markdown",
   "id": "ab5e69de",
   "metadata": {},
   "source": [
    "# 13 . Total contributation hour for each and every agents weekly basis"
   ]
  },
  {
   "cell_type": "code",
   "execution_count": 38,
   "id": "d463691a",
   "metadata": {},
   "outputs": [
    {
     "data": {
      "text/plain": [
       "Index(['SL No', 'Agent', 'Date', 'Login Time', 'Logout Time', 'Duration'], dtype='object')"
      ]
     },
     "execution_count": 38,
     "metadata": {},
     "output_type": "execute_result"
    }
   ],
   "source": [
    "data.columns"
   ]
  },
  {
   "cell_type": "code",
   "execution_count": 39,
   "id": "0b9553a4",
   "metadata": {},
   "outputs": [
    {
     "data": {
      "text/plain": [
       "dtype('O')"
      ]
     },
     "execution_count": 39,
     "metadata": {},
     "output_type": "execute_result"
    }
   ],
   "source": [
    "data['Duration'].dtype"
   ]
  },
  {
   "cell_type": "code",
   "execution_count": 40,
   "id": "198deaf0",
   "metadata": {},
   "outputs": [
    {
     "data": {
      "text/html": [
       "<div>\n",
       "<style scoped>\n",
       "    .dataframe tbody tr th:only-of-type {\n",
       "        vertical-align: middle;\n",
       "    }\n",
       "\n",
       "    .dataframe tbody tr th {\n",
       "        vertical-align: top;\n",
       "    }\n",
       "\n",
       "    .dataframe thead th {\n",
       "        text-align: right;\n",
       "    }\n",
       "</style>\n",
       "<table border=\"1\" class=\"dataframe\">\n",
       "  <thead>\n",
       "    <tr style=\"text-align: right;\">\n",
       "      <th></th>\n",
       "      <th>SL No</th>\n",
       "      <th>Agent</th>\n",
       "      <th>Date</th>\n",
       "      <th>Login Time</th>\n",
       "      <th>Logout Time</th>\n",
       "      <th>Duration</th>\n",
       "    </tr>\n",
       "  </thead>\n",
       "  <tbody>\n",
       "    <tr>\n",
       "      <th>0</th>\n",
       "      <td>1</td>\n",
       "      <td>Shivananda Sonwane</td>\n",
       "      <td>30-Jul-22</td>\n",
       "      <td>15:35:29</td>\n",
       "      <td>17:39:39</td>\n",
       "      <td>02:04:10</td>\n",
       "    </tr>\n",
       "    <tr>\n",
       "      <th>1</th>\n",
       "      <td>2</td>\n",
       "      <td>Khushboo Priya</td>\n",
       "      <td>30-Jul-22</td>\n",
       "      <td>15:06:59</td>\n",
       "      <td>15:07:16</td>\n",
       "      <td>00:00:17</td>\n",
       "    </tr>\n",
       "    <tr>\n",
       "      <th>2</th>\n",
       "      <td>3</td>\n",
       "      <td>Nandani Gupta</td>\n",
       "      <td>30-Jul-22</td>\n",
       "      <td>15:04:24</td>\n",
       "      <td>17:31:07</td>\n",
       "      <td>02:26:42</td>\n",
       "    </tr>\n",
       "    <tr>\n",
       "      <th>3</th>\n",
       "      <td>4</td>\n",
       "      <td>Hrisikesh Neogi</td>\n",
       "      <td>30-Jul-22</td>\n",
       "      <td>14:34:29</td>\n",
       "      <td>15:19:35</td>\n",
       "      <td>00:45:06</td>\n",
       "    </tr>\n",
       "    <tr>\n",
       "      <th>4</th>\n",
       "      <td>5</td>\n",
       "      <td>Mukesh</td>\n",
       "      <td>30-Jul-22</td>\n",
       "      <td>14:03:15</td>\n",
       "      <td>15:11:52</td>\n",
       "      <td>01:08:36</td>\n",
       "    </tr>\n",
       "  </tbody>\n",
       "</table>\n",
       "</div>"
      ],
      "text/plain": [
       "   SL No               Agent       Date Login Time Logout Time  Duration\n",
       "0      1  Shivananda Sonwane  30-Jul-22   15:35:29    17:39:39  02:04:10\n",
       "1      2      Khushboo Priya  30-Jul-22   15:06:59    15:07:16  00:00:17\n",
       "2      3       Nandani Gupta  30-Jul-22   15:04:24    17:31:07  02:26:42\n",
       "3      4     Hrisikesh Neogi  30-Jul-22   14:34:29    15:19:35  00:45:06\n",
       "4      5              Mukesh  30-Jul-22   14:03:15    15:11:52  01:08:36"
      ]
     },
     "execution_count": 40,
     "metadata": {},
     "output_type": "execute_result"
    }
   ],
   "source": [
    "data.head()"
   ]
  },
  {
   "cell_type": "code",
   "execution_count": 41,
   "id": "208ecf17",
   "metadata": {},
   "outputs": [],
   "source": [
    "#drop first 2 row\n",
    "#by  selecting all row from first 2 rows onwards\n",
    "data=data.iloc[2: , : ]"
   ]
  },
  {
   "cell_type": "code",
   "execution_count": 42,
   "id": "2418bca7",
   "metadata": {},
   "outputs": [
    {
     "data": {
      "text/html": [
       "<div>\n",
       "<style scoped>\n",
       "    .dataframe tbody tr th:only-of-type {\n",
       "        vertical-align: middle;\n",
       "    }\n",
       "\n",
       "    .dataframe tbody tr th {\n",
       "        vertical-align: top;\n",
       "    }\n",
       "\n",
       "    .dataframe thead th {\n",
       "        text-align: right;\n",
       "    }\n",
       "</style>\n",
       "<table border=\"1\" class=\"dataframe\">\n",
       "  <thead>\n",
       "    <tr style=\"text-align: right;\">\n",
       "      <th></th>\n",
       "      <th>SL No</th>\n",
       "      <th>Agent</th>\n",
       "      <th>Date</th>\n",
       "      <th>Login Time</th>\n",
       "      <th>Logout Time</th>\n",
       "      <th>Duration</th>\n",
       "    </tr>\n",
       "  </thead>\n",
       "  <tbody>\n",
       "    <tr>\n",
       "      <th>2</th>\n",
       "      <td>3</td>\n",
       "      <td>Nandani Gupta</td>\n",
       "      <td>30-Jul-22</td>\n",
       "      <td>15:04:24</td>\n",
       "      <td>17:31:07</td>\n",
       "      <td>02:26:42</td>\n",
       "    </tr>\n",
       "    <tr>\n",
       "      <th>3</th>\n",
       "      <td>4</td>\n",
       "      <td>Hrisikesh Neogi</td>\n",
       "      <td>30-Jul-22</td>\n",
       "      <td>14:34:29</td>\n",
       "      <td>15:19:35</td>\n",
       "      <td>00:45:06</td>\n",
       "    </tr>\n",
       "    <tr>\n",
       "      <th>4</th>\n",
       "      <td>5</td>\n",
       "      <td>Mukesh</td>\n",
       "      <td>30-Jul-22</td>\n",
       "      <td>14:03:15</td>\n",
       "      <td>15:11:52</td>\n",
       "      <td>01:08:36</td>\n",
       "    </tr>\n",
       "    <tr>\n",
       "      <th>5</th>\n",
       "      <td>6</td>\n",
       "      <td>Sowmiya Sivakumar</td>\n",
       "      <td>30-Jul-22</td>\n",
       "      <td>14:03:11</td>\n",
       "      <td>15:05:37</td>\n",
       "      <td>01:02:26</td>\n",
       "    </tr>\n",
       "    <tr>\n",
       "      <th>6</th>\n",
       "      <td>7</td>\n",
       "      <td>Manjunatha A</td>\n",
       "      <td>30-Jul-22</td>\n",
       "      <td>14:00:12</td>\n",
       "      <td>15:08:29</td>\n",
       "      <td>01:08:16</td>\n",
       "    </tr>\n",
       "    <tr>\n",
       "      <th>...</th>\n",
       "      <td>...</td>\n",
       "      <td>...</td>\n",
       "      <td>...</td>\n",
       "      <td>...</td>\n",
       "      <td>...</td>\n",
       "      <td>...</td>\n",
       "    </tr>\n",
       "    <tr>\n",
       "      <th>995</th>\n",
       "      <td>996</td>\n",
       "      <td>Manjunatha A</td>\n",
       "      <td>20-Jul-22</td>\n",
       "      <td>09:03:51</td>\n",
       "      <td>15:02:28</td>\n",
       "      <td>05:58:37</td>\n",
       "    </tr>\n",
       "    <tr>\n",
       "      <th>996</th>\n",
       "      <td>997</td>\n",
       "      <td>Bharath</td>\n",
       "      <td>20-Jul-22</td>\n",
       "      <td>09:00:49</td>\n",
       "      <td>15:01:32</td>\n",
       "      <td>06:00:43</td>\n",
       "    </tr>\n",
       "    <tr>\n",
       "      <th>997</th>\n",
       "      <td>998</td>\n",
       "      <td>Khushboo Priya</td>\n",
       "      <td>20-Jul-22</td>\n",
       "      <td>08:59:20</td>\n",
       "      <td>14:26:55</td>\n",
       "      <td>05:27:34</td>\n",
       "    </tr>\n",
       "    <tr>\n",
       "      <th>998</th>\n",
       "      <td>999</td>\n",
       "      <td>Nishtha Jain</td>\n",
       "      <td>20-Jul-22</td>\n",
       "      <td>08:43:55</td>\n",
       "      <td>14:00:33</td>\n",
       "      <td>05:16:38</td>\n",
       "    </tr>\n",
       "    <tr>\n",
       "      <th>999</th>\n",
       "      <td>1000</td>\n",
       "      <td>Tarun</td>\n",
       "      <td>01-Jul-22</td>\n",
       "      <td>01:52:47</td>\n",
       "      <td>12:01:07</td>\n",
       "      <td>514:08:20</td>\n",
       "    </tr>\n",
       "  </tbody>\n",
       "</table>\n",
       "<p>998 rows × 6 columns</p>\n",
       "</div>"
      ],
      "text/plain": [
       "     SL No              Agent       Date Login Time Logout Time   Duration\n",
       "2        3      Nandani Gupta  30-Jul-22   15:04:24    17:31:07   02:26:42\n",
       "3        4    Hrisikesh Neogi  30-Jul-22   14:34:29    15:19:35   00:45:06\n",
       "4        5             Mukesh  30-Jul-22   14:03:15    15:11:52   01:08:36\n",
       "5        6  Sowmiya Sivakumar  30-Jul-22   14:03:11    15:05:37   01:02:26\n",
       "6        7       Manjunatha A  30-Jul-22   14:00:12    15:08:29   01:08:16\n",
       "..     ...                ...        ...        ...         ...        ...\n",
       "995    996       Manjunatha A  20-Jul-22   09:03:51    15:02:28   05:58:37\n",
       "996    997            Bharath  20-Jul-22   09:00:49    15:01:32   06:00:43\n",
       "997    998     Khushboo Priya  20-Jul-22   08:59:20    14:26:55   05:27:34\n",
       "998    999       Nishtha Jain  20-Jul-22   08:43:55    14:00:33   05:16:38\n",
       "999   1000              Tarun  01-Jul-22   01:52:47    12:01:07  514:08:20\n",
       "\n",
       "[998 rows x 6 columns]"
      ]
     },
     "execution_count": 42,
     "metadata": {},
     "output_type": "execute_result"
    }
   ],
   "source": [
    "data"
   ]
  },
  {
   "cell_type": "code",
   "execution_count": 43,
   "id": "c9a2ce1a",
   "metadata": {},
   "outputs": [
    {
     "name": "stdout",
     "output_type": "stream",
     "text": [
      "<class 'pandas.core.frame.DataFrame'>\n",
      "RangeIndex: 998 entries, 2 to 999\n",
      "Data columns (total 6 columns):\n",
      " #   Column       Non-Null Count  Dtype \n",
      "---  ------       --------------  ----- \n",
      " 0   SL No        998 non-null    int64 \n",
      " 1   Agent        998 non-null    object\n",
      " 2   Date         998 non-null    object\n",
      " 3   Login Time   998 non-null    object\n",
      " 4   Logout Time  998 non-null    object\n",
      " 5   Duration     998 non-null    object\n",
      "dtypes: int64(1), object(5)\n",
      "memory usage: 46.9+ KB\n"
     ]
    }
   ],
   "source": [
    "data.info()"
   ]
  },
  {
   "cell_type": "code",
   "execution_count": 45,
   "id": "406a1a8a",
   "metadata": {},
   "outputs": [
    {
     "name": "stderr",
     "output_type": "stream",
     "text": [
      "D:\\anaconda\\envs\\deepl\\lib\\site-packages\\ipykernel_launcher.py:1: SettingWithCopyWarning: \n",
      "A value is trying to be set on a copy of a slice from a DataFrame.\n",
      "Try using .loc[row_indexer,col_indexer] = value instead\n",
      "\n",
      "See the caveats in the documentation: https://pandas.pydata.org/pandas-docs/stable/user_guide/indexing.html#returning-a-view-versus-a-copy\n",
      "  \"\"\"Entry point for launching an IPython kernel.\n"
     ]
    }
   ],
   "source": [
    "data['modified_Duration']=(pd.to_datetime(data.Date) + pd.to_timedelta(data.Duration))\n"
   ]
  },
  {
   "cell_type": "code",
   "execution_count": 46,
   "id": "d2347fc8",
   "metadata": {},
   "outputs": [
    {
     "name": "stderr",
     "output_type": "stream",
     "text": [
      "D:\\anaconda\\envs\\deepl\\lib\\site-packages\\ipykernel_launcher.py:1: SettingWithCopyWarning: \n",
      "A value is trying to be set on a copy of a slice from a DataFrame.\n",
      "Try using .loc[row_indexer,col_indexer] = value instead\n",
      "\n",
      "See the caveats in the documentation: https://pandas.pydata.org/pandas-docs/stable/user_guide/indexing.html#returning-a-view-versus-a-copy\n",
      "  \"\"\"Entry point for launching an IPython kernel.\n"
     ]
    }
   ],
   "source": [
    "data['modified_Duration']=(pd.to_datetime(data.Date) + pd.to_timedelta(data.Duration))\n"
   ]
  },
  {
   "cell_type": "code",
   "execution_count": 47,
   "id": "d6f8b55a",
   "metadata": {},
   "outputs": [
    {
     "name": "stderr",
     "output_type": "stream",
     "text": [
      "D:\\anaconda\\envs\\deepl\\lib\\site-packages\\ipykernel_launcher.py:1: SettingWithCopyWarning: \n",
      "A value is trying to be set on a copy of a slice from a DataFrame.\n",
      "Try using .loc[row_indexer,col_indexer] = value instead\n",
      "\n",
      "See the caveats in the documentation: https://pandas.pydata.org/pandas-docs/stable/user_guide/indexing.html#returning-a-view-versus-a-copy\n",
      "  \"\"\"Entry point for launching an IPython kernel.\n"
     ]
    }
   ],
   "source": [
    "data['Duration_minute']= data['modified_Duration'].dt.minute"
   ]
  },
  {
   "cell_type": "code",
   "execution_count": 49,
   "id": "1852517c",
   "metadata": {},
   "outputs": [
    {
     "name": "stderr",
     "output_type": "stream",
     "text": [
      "D:\\anaconda\\envs\\deepl\\lib\\site-packages\\ipykernel_launcher.py:1: SettingWithCopyWarning: \n",
      "A value is trying to be set on a copy of a slice from a DataFrame.\n",
      "Try using .loc[row_indexer,col_indexer] = value instead\n",
      "\n",
      "See the caveats in the documentation: https://pandas.pydata.org/pandas-docs/stable/user_guide/indexing.html#returning-a-view-versus-a-copy\n",
      "  \"\"\"Entry point for launching an IPython kernel.\n"
     ]
    }
   ],
   "source": [
    "data['Duration_second'] =data['modified_Duration'].dt.second\n"
   ]
  },
  {
   "cell_type": "code",
   "execution_count": 50,
   "id": "3da2e87d",
   "metadata": {},
   "outputs": [
    {
     "data": {
      "text/html": [
       "<div>\n",
       "<style scoped>\n",
       "    .dataframe tbody tr th:only-of-type {\n",
       "        vertical-align: middle;\n",
       "    }\n",
       "\n",
       "    .dataframe tbody tr th {\n",
       "        vertical-align: top;\n",
       "    }\n",
       "\n",
       "    .dataframe thead th {\n",
       "        text-align: right;\n",
       "    }\n",
       "</style>\n",
       "<table border=\"1\" class=\"dataframe\">\n",
       "  <thead>\n",
       "    <tr style=\"text-align: right;\">\n",
       "      <th></th>\n",
       "      <th>SL No</th>\n",
       "      <th>Agent</th>\n",
       "      <th>Date</th>\n",
       "      <th>Login Time</th>\n",
       "      <th>Logout Time</th>\n",
       "      <th>Duration</th>\n",
       "      <th>modified_Duration</th>\n",
       "      <th>Duration_minute</th>\n",
       "      <th>Duration_second</th>\n",
       "    </tr>\n",
       "  </thead>\n",
       "  <tbody>\n",
       "    <tr>\n",
       "      <th>2</th>\n",
       "      <td>3</td>\n",
       "      <td>Nandani Gupta</td>\n",
       "      <td>30-Jul-22</td>\n",
       "      <td>15:04:24</td>\n",
       "      <td>17:31:07</td>\n",
       "      <td>02:26:42</td>\n",
       "      <td>2022-07-30 02:26:42</td>\n",
       "      <td>26</td>\n",
       "      <td>42</td>\n",
       "    </tr>\n",
       "    <tr>\n",
       "      <th>3</th>\n",
       "      <td>4</td>\n",
       "      <td>Hrisikesh Neogi</td>\n",
       "      <td>30-Jul-22</td>\n",
       "      <td>14:34:29</td>\n",
       "      <td>15:19:35</td>\n",
       "      <td>00:45:06</td>\n",
       "      <td>2022-07-30 00:45:06</td>\n",
       "      <td>45</td>\n",
       "      <td>6</td>\n",
       "    </tr>\n",
       "    <tr>\n",
       "      <th>4</th>\n",
       "      <td>5</td>\n",
       "      <td>Mukesh</td>\n",
       "      <td>30-Jul-22</td>\n",
       "      <td>14:03:15</td>\n",
       "      <td>15:11:52</td>\n",
       "      <td>01:08:36</td>\n",
       "      <td>2022-07-30 01:08:36</td>\n",
       "      <td>8</td>\n",
       "      <td>36</td>\n",
       "    </tr>\n",
       "    <tr>\n",
       "      <th>5</th>\n",
       "      <td>6</td>\n",
       "      <td>Sowmiya Sivakumar</td>\n",
       "      <td>30-Jul-22</td>\n",
       "      <td>14:03:11</td>\n",
       "      <td>15:05:37</td>\n",
       "      <td>01:02:26</td>\n",
       "      <td>2022-07-30 01:02:26</td>\n",
       "      <td>2</td>\n",
       "      <td>26</td>\n",
       "    </tr>\n",
       "    <tr>\n",
       "      <th>6</th>\n",
       "      <td>7</td>\n",
       "      <td>Manjunatha A</td>\n",
       "      <td>30-Jul-22</td>\n",
       "      <td>14:00:12</td>\n",
       "      <td>15:08:29</td>\n",
       "      <td>01:08:16</td>\n",
       "      <td>2022-07-30 01:08:16</td>\n",
       "      <td>8</td>\n",
       "      <td>16</td>\n",
       "    </tr>\n",
       "  </tbody>\n",
       "</table>\n",
       "</div>"
      ],
      "text/plain": [
       "   SL No              Agent       Date Login Time Logout Time  Duration  \\\n",
       "2      3      Nandani Gupta  30-Jul-22   15:04:24    17:31:07  02:26:42   \n",
       "3      4    Hrisikesh Neogi  30-Jul-22   14:34:29    15:19:35  00:45:06   \n",
       "4      5             Mukesh  30-Jul-22   14:03:15    15:11:52  01:08:36   \n",
       "5      6  Sowmiya Sivakumar  30-Jul-22   14:03:11    15:05:37  01:02:26   \n",
       "6      7       Manjunatha A  30-Jul-22   14:00:12    15:08:29  01:08:16   \n",
       "\n",
       "    modified_Duration  Duration_minute  Duration_second  \n",
       "2 2022-07-30 02:26:42               26               42  \n",
       "3 2022-07-30 00:45:06               45                6  \n",
       "4 2022-07-30 01:08:36                8               36  \n",
       "5 2022-07-30 01:02:26                2               26  \n",
       "6 2022-07-30 01:08:16                8               16  "
      ]
     },
     "execution_count": 50,
     "metadata": {},
     "output_type": "execute_result"
    }
   ],
   "source": [
    "data.head()"
   ]
  },
  {
   "cell_type": "code",
   "execution_count": null,
   "id": "c93e3ec4",
   "metadata": {},
   "outputs": [],
   "source": []
  }
 ],
 "metadata": {
  "kernelspec": {
   "display_name": "Python 3",
   "language": "python",
   "name": "python3"
  },
  "language_info": {
   "codemirror_mode": {
    "name": "ipython",
    "version": 3
   },
   "file_extension": ".py",
   "mimetype": "text/x-python",
   "name": "python",
   "nbconvert_exporter": "python",
   "pygments_lexer": "ipython3",
   "version": "3.6.13"
  }
 },
 "nbformat": 4,
 "nbformat_minor": 5
}
